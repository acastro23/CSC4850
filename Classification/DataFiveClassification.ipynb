Missing values count in train data:
0     0
1     0
2     0
3     0
4     0
5     0
6     0
7     0
8     0
9     0
10    0
dtype: int64
/usr/local/lib/python3.10/dist-packages/sklearn/neural_network/_multilayer_perceptron.py:690: ConvergenceWarning: Stochastic Optimizer: Maximum iterations (1000) reached and the optimization hasn't converged yet.
  warnings.warn(
/usr/local/lib/python3.10/dist-packages/sklearn/metrics/_classification.py:1531: UndefinedMetricWarning: Precision is ill-defined and being set to 0.0 in labels with no predicted samples. Use `zero_division` parameter to control this behavior.
  _warn_prf(average, modifier, f"{metric.capitalize()} is", len(result))
/usr/local/lib/python3.10/dist-packages/sklearn/metrics/_classification.py:1531: UndefinedMetricWarning: Precision is ill-defined and being set to 0.0 in labels with no predicted samples. Use `zero_division` parameter to control this behavior.
  _warn_prf(average, modifier, f"{metric.capitalize()} is", len(result))
/usr/local/lib/python3.10/dist-packages/sklearn/metrics/_classification.py:1531: UndefinedMetricWarning: Precision is ill-defined and being set to 0.0 in labels with no predicted samples. Use `zero_division` parameter to control this behavior.
  _warn_prf(average, modifier, f"{metric.capitalize()} is", len(result))
/usr/local/lib/python3.10/dist-packages/sklearn/metrics/_classification.py:1531: UndefinedMetricWarning: Precision is ill-defined and being set to 0.0 in labels with no predicted samples. Use `zero_division` parameter to control this behavior.
  _warn_prf(average, modifier, f"{metric.capitalize()} is", len(result))
/usr/local/lib/python3.10/dist-packages/sklearn/metrics/_classification.py:1531: UndefinedMetricWarning: Precision is ill-defined and being set to 0.0 in labels with no predicted samples. Use `zero_division` parameter to control this behavior.
  _warn_prf(average, modifier, f"{metric.capitalize()} is", len(result))
/usr/local/lib/python3.10/dist-packages/sklearn/metrics/_classification.py:1531: UndefinedMetricWarning: Precision is ill-defined and being set to 0.0 in labels with no predicted samples. Use `zero_division` parameter to control this behavior.
  _warn_prf(average, modifier, f"{metric.capitalize()} is", len(result))
The validation set had an accuracy of 0.5714285714285714 for KNN
Classification report for KNN validation set:
               precision    recall  f1-score   support

           3       0.00      0.00      0.00         2
           4       0.00      0.00      0.00         7
           5       0.67      0.67      0.67       104
           6       0.47      0.58      0.52        81
           7       0.65      0.39      0.49        28
           8       0.00      0.00      0.00         2

    accuracy                           0.57       224
   macro avg       0.30      0.27      0.28       224
weighted avg       0.56      0.57      0.56       224

The validation set had an accuracy of 0.625 for Neural Network
Classification report for Neural Network validation set:
               precision    recall  f1-score   support

           3       0.00      0.00      0.00         2
           4       0.00      0.00      0.00         7
           5       0.75      0.74      0.74       104
           6       0.54      0.60      0.57        81
           7       0.54      0.50      0.52        28
           8       0.00      0.00      0.00         2
...
    accuracy                           0.62       224
   macro avg       0.30      0.30      0.30       224
weighted avg       0.61      0.62      0.61       224

Output is truncated. View as a scrollable element or open in a text editor. Adjust cell output settings...
/usr/local/lib/python3.10/dist-packages/sklearn/metrics/_classification.py:1531: UndefinedMetricWarning: Precision is ill-defined and being set to 0.0 in labels with no predicted samples. Use `zero_division` parameter to control this behavior.
  _warn_prf(average, modifier, f"{metric.capitalize()} is", len(result))
/usr/local/lib/python3.10/dist-packages/sklearn/metrics/_classification.py:1531: UndefinedMetricWarning: Precision is ill-defined and being set to 0.0 in labels with no predicted samples. Use `zero_division` parameter to control this behavior.
  _warn_prf(average, modifier, f"{metric.capitalize()} is", len(result))
/usr/local/lib/python3.10/dist-packages/sklearn/metrics/_classification.py:1531: UndefinedMetricWarning: Precision is ill-defined and being set to 0.0 in labels with no predicted samples. Use `zero_division` parameter to control this behavior.
  _warn_prf(average, modifier, f"{metric.capitalize()} is", len(result))

Predictions on Test Data from the Combined Model:
 [5 5 5 6 5 5 4 6 6 5 5 5 5 5 5 5 6 5 5 6 6 5 6 5 5 5 5 6 5 5 5 5 5 5 5 6 5
 6 5 5 5 5 6 5 5 5 6 5 5 5 5 6 5 6 6 5 5 5 5 5 5 5 5 6 5 5 6 7 5 5 5 6 6 5
 5 5 5 7 6 5 5 7 6 6 7 5 6 5 5 6 5 5 5 6 5 6 6 5 6 6 7 6 7 6 5 6 6 7 7 6 6
 6 5 5 5 5 6 6 5 6 7 6 5 6 6 5 6 6 6 7 6 5 7 5 6 6 6 5 6 5 5 6 5 6 7 7 6 7
 5 7 5 6 6 6 5 6 6 6 5 6 6 6 5 6 6 5 5 5 5 6 6 5 7 5 5 5 5 5 6 6 6 5 6 5 6
 7 6 6 5 5 7 5 5 5 5 6 5 5 5 6 5 6 6 5 6 6 6 5 5 5 5 4 6 5 6 5 5 6 5 6 5 5
 5 6 5 5 5 6 5 5 5 6 5 4 5 5 4 5 5 5 5 5 5 6 5 5 5 5 5 5 6 6 6 6 6 5 6 5 5
 6 5 7 5 6 7 5 6 6 6 6 6 6 5 6 6 5 5 5 7 7 6 7 6 6 5 7 7 6 6 6 6 6 6 5 6 5
 6 5 5 5 5 6 5 6 7 7 7 7 7 6 6 7 6 6 5 5 6 6 7 6 5 6 7 7 4 5 5 7 6 6 7 6 5
 6 6 7 6 5 6 7 6 4 7 6 6 6 5 5 6 6 6 6 6 5 6 6 6 5 5 4 4 4 6 6 7 5 5 6 6 6
 6 5 6 5 6 6 5 5 6 5 5 5 6 5 6 6 5 5 5 6 5 6 7 5 5 5 4 6 6 6 5 7 6 6 5 6 5
 5 5 5 5 5 6 6 6 5 5 6 5 6 6 6 6 6 5 5 5 5 5 6 6 6 5 4 8 6 6 6 6 8 6 7 5 4
 7 6 5 6 5 6 6 6 7 5 6 5 6 5 6 6 6 6 6 6 6 6 5 6 6 5 5 7 6 5 6 6 6 6 6 5]
/usr/local/lib/python3.10/dist-packages/sklearn/neural_network/_multilayer_perceptron.py:690: ConvergenceWarning: Stochastic Optimizer: Maximum iterations (1000) reached and the optimization hasn't converged yet.
  warnings.warn(
