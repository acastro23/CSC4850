{
 "cells": [
  {
   "cell_type": "markdown",
   "metadata": {},
   "source": [
    "# Dataset one\n"
   ]
  },
  {
   "cell_type": "code",
   "execution_count": 52,
   "metadata": {},
   "outputs": [],
   "source": [
    "import numpy as np\n",
    "import pandas as pd\n",
    "from sklearn.impute import SimpleImputer\n",
    "from sklearn.preprocessing import MinMaxScaler\n",
    "from sklearn.feature_selection import VarianceThreshold"
   ]
  },
  {
   "cell_type": "code",
   "execution_count": 53,
   "metadata": {},
   "outputs": [],
   "source": [
    "trainData = pd.read_csv('../DataFiles/TrainData1.txt', delimiter='\\t', header=None)\n",
    "trainLabels = pd.read_csv('../DataFiles/TrainLabel1.txt', delimiter='\\t', header=None)\n",
    "testData = pd.read_csv('../DataFiles/TestData1.txt', delimiter='\\t', header=None)\n"
   ]
  },
  {
   "cell_type": "code",
   "execution_count": 54,
   "metadata": {},
   "outputs": [],
   "source": [
    "trainData.replace(1.00000000000000e+99, np.nan, inplace=True)\n",
    "testData.replace(1.00000000000000e+99, np.nan, inplace=True)\n",
    "\n",
    "myImputer = SimpleImputer(strategy=\"mean\")\n",
    "trainDataImputed = pd.DataFrame(myImputer.fit_transform(trainData), columns=trainData.columns)\n",
    "testDataImputed = pd.DataFrame(myImputer.transform(testData), columns=testData.columns)"
   ]
  },
  {
   "cell_type": "code",
   "execution_count": 55,
   "metadata": {},
   "outputs": [],
   "source": [
    "myScaler = MinMaxScaler()\n",
    "trainDataScaled = pd.DataFrame(myScaler.fit_transform(trainDataImputed), columns=trainData.columns)\n",
    "testDataScaled = pd.DataFrame(myScaler.transform(testDataImputed), columns=testData.columns)"
   ]
  },
  {
   "cell_type": "code",
   "execution_count": 56,
   "metadata": {},
   "outputs": [
    {
     "name": "stdout",
     "output_type": "stream",
     "text": [
      "The original number of features for TrainData1 was: 3312\n",
      "The number of features after feature selection: 2085\n"
     ]
    }
   ],
   "source": [
    "\"\"\" \n",
    "Final just means this will be the final step in pre-processing the data, so data set one is ready for the machine\n",
    "learning model\n",
    "\"\"\"\n",
    "\n",
    "mySelector = VarianceThreshold(threshold=0.03)\n",
    "trainDataFinal = mySelector.fit_transform(trainDataScaled)\n",
    "testDataFinal = mySelector.transform(testDataScaled)\n",
    "\n",
    "print(\"The original number of features for TrainData1 was:\", trainDataScaled.shape[1])\n",
    "print(\"The number of features after feature selection:\", trainDataFinal.shape[1])"
   ]
  },
  {
   "cell_type": "code",
   "execution_count": 57,
   "metadata": {},
   "outputs": [
    {
     "name": "stdout",
     "output_type": "stream",
     "text": [
      "Accuracy score: 0.98\n",
      "Classification report:\n",
      "               precision    recall  f1-score   support\n",
      "\n",
      "           1       0.98      0.99      0.99       108\n",
      "           2       0.93      0.93      0.93        14\n",
      "           3       1.00      0.91      0.95        11\n",
      "           4       1.00      1.00      1.00        14\n",
      "           5       1.00      1.00      1.00         3\n",
      "\n",
      "    accuracy                           0.98       150\n",
      "   macro avg       0.98      0.97      0.97       150\n",
      "weighted avg       0.98      0.98      0.98       150\n",
      "\n"
     ]
    }
   ],
   "source": [
    "\"\"\" \n",
    "This cell contains the KNN model, and will also analyze the results using accuracy_Score and classification_report imports from sklearn.metric, after the report is generated, the test data will\n",
    "be inputted into the model in the next cell\n",
    "\"\"\"\n",
    "\n",
    "from sklearn.neighbors import KNeighborsClassifier\n",
    "from sklearn.metrics import accuracy_score, classification_report\n",
    "\n",
    "KNN = KNeighborsClassifier(n_neighbors=3)\n",
    "KNN.fit(trainDataFinal, trainLabels.values.ravel())\n",
    "\n",
    "trainTest = KNN.predict(trainDataFinal)                                 # AC1028 -- trainTest is the prediction made by the KNN model\n",
    "\n",
    "d1Accuracy = accuracy_score(trainLabels, trainTest)                     # AC1028 -- d1 stands for dataset one\n",
    "d1_report = classification_report(trainLabels, trainTest)\n",
    "\n",
    "\n",
    "# AC1028 -- These analysis are only for the training data\n",
    "print(\"Accuracy score:\", d1Accuracy)\n",
    "print(\"Classification report:\\n\", d1_report)\n"
   ]
  },
  {
   "cell_type": "code",
   "execution_count": 58,
   "metadata": {},
   "outputs": [
    {
     "data": {
      "text/plain": [
       "array([2, 1, 1, 1, 1, 2, 1, 1, 3, 1, 3, 1, 1, 1, 4, 1, 1, 1, 1, 1, 1, 4,\n",
       "       3, 3, 4, 1, 5, 4, 1, 3, 1, 1, 4, 1, 1, 1, 1, 4, 3, 5, 3, 1, 4, 1,\n",
       "       1, 1, 1, 1, 1, 1, 1, 1, 1])"
      ]
     },
     "execution_count": 58,
     "metadata": {},
     "output_type": "execute_result"
    }
   ],
   "source": [
    "testDataPrediction = KNN.predict(testDataFinal)\n",
    "testDataPrediction"
   ]
  }
 ],
 "metadata": {
  "kernelspec": {
   "display_name": "Python 3",
   "language": "python",
   "name": "python3"
  },
  "language_info": {
   "codemirror_mode": {
    "name": "ipython",
    "version": 3
   },
   "file_extension": ".py",
   "mimetype": "text/x-python",
   "name": "python",
   "nbconvert_exporter": "python",
   "pygments_lexer": "ipython3",
   "version": "3.12.5"
  }
 },
 "nbformat": 4,
 "nbformat_minor": 2
}
