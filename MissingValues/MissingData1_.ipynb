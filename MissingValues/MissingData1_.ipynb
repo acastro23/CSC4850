{
 "cells": [
  {
   "cell_type": "code",
   "execution_count": 79,
   "metadata": {},
   "outputs": [],
   "source": [
    "import pandas as pd\n",
    "import numpy as np\n",
    "from sklearn.impute import KNNImputer"
   ]
  },
  {
   "cell_type": "code",
   "execution_count": 80,
   "metadata": {},
   "outputs": [
    {
     "name": "stdout",
     "output_type": "stream",
     "text": [
      "Missing Data 1 (BEFORE)\n",
      "     0     1             2             3             4     5     6     7     8     9     10    11    12    13\n",
      "0 -0.11  0.02 -3.600000e-01 -1.100000e-01  4.800000e-01 -0.20  0.27  0.29 -0.34 -0.05  0.23  0.08 -0.45  0.25\n",
      "1 -0.30 -0.37 -1.800000e-01 -9.000000e-02 -1.600000e-01 -0.16 -0.10 -0.09  0.46  0.32  0.02  0.31  0.40 -0.07\n",
      "2  0.50  0.18  4.100000e-01  1.000000e+99  1.000000e+99  0.15 -0.25 -0.41 -0.07 -0.13 -0.15 -0.01 -0.28 -0.09\n",
      "3  0.00 -0.11  1.000000e+99  1.900000e-01  0.000000e+00 -0.07  0.18  0.18 -0.23 -0.16  0.03 -0.12 -0.11  0.23\n",
      "4  0.40 -0.16  3.100000e-01 -3.400000e-01  2.000000e-02  0.21 -0.70  0.11  0.08  0.05 -0.09  0.07  0.04 -0.01\n"
     ]
    }
   ],
   "source": [
    "import pandas as pd\n",
    "import numpy as np\n",
    "\n",
    "MissingData1Path = '../DataFiles/MissingData1.txt'\n",
    "missing_data1 = pd.read_csv(MissingData1Path, sep=r'\\s+', header=None)\n",
    "\n",
    "pd.set_option(\"display.max_columns\", None)  \n",
    "pd.set_option(\"display.width\", 200)         \n",
    "\n",
    "#MissingData1.txt before changes\n",
    "print(\"Missing Data 1 (BEFORE)\")\n",
    "print(missing_data1.head())\n"
   ]
  },
  {
   "cell_type": "code",
   "execution_count": null,
   "metadata": {},
   "outputs": [
    {
     "name": "stdout",
     "output_type": "stream",
     "text": [
      "\n",
      "Data after KNN Imputation:\n",
      "     0     1     2     3     4     5     6     7     8     9     10    11    12    13\n",
      "0 -0.11  0.02 -0.36 -0.11  0.48 -0.20  0.27  0.29 -0.34 -0.05  0.23  0.08 -0.45  0.25\n",
      "1 -0.30 -0.37 -0.18 -0.09 -0.16 -0.16 -0.10 -0.09  0.46  0.32  0.02  0.31  0.40 -0.07\n",
      "2  0.50  0.18  0.41  0.07  0.17  0.15 -0.25 -0.41 -0.07 -0.13 -0.15 -0.01 -0.28 -0.09\n",
      "3  0.00 -0.11 -0.06  0.19  0.00 -0.07  0.18  0.18 -0.23 -0.16  0.03 -0.12 -0.11  0.23\n",
      "4  0.40 -0.16  0.31 -0.34  0.02  0.21 -0.70  0.11  0.08  0.05 -0.09  0.07  0.04 -0.01\n"
     ]
    }
   ],
   "source": [
    "#replaces 1.000000e+99 with NaN \n",
    "missing_data1.replace(1.000000e+99, np.nan, inplace=True) \n",
    "knn_imputer = KNNImputer(n_neighbors=6, weights='distance') #using KNNImputer with nearest neighbors = 6\n",
    "data_imputed = knn_imputer.fit_transform(missing_data1)\n",
    "DataImputed_df = pd.DataFrame(data_imputed, columns=missing_data1.columns).round(2)\n",
    "print(\"\\nData after KNN Imputation:\")\n",
    "print(DataImputed_df.head())"
   ]
  },
  {
   "cell_type": "code",
   "execution_count": null,
   "metadata": {},
   "outputs": [
    {
     "name": "stdout",
     "output_type": "stream",
     "text": [
      "\n",
      "Missing values after imputation: 0\n",
      "\n",
      "Statistical summary of the imputed data:\n",
      "           0       1       2       3       4       5       6       7       8       9       10      11      12      13\n",
      "count  242.00  242.00  242.00  242.00  242.00  242.00  242.00  242.00  242.00  242.00  242.00  242.00  242.00  242.00\n",
      "mean     0.16   -0.04   -0.02    0.01   -0.01   -0.07   -0.03    0.03    0.04   -0.02   -0.03    0.01   -0.07    0.06\n",
      "std      0.60    0.33    0.29    0.30    0.34    0.33    0.29    0.22    0.23    0.25    0.24    0.28    0.34    0.22\n",
      "min     -1.39   -0.84   -1.49   -0.90   -1.13   -1.21   -1.04   -0.60   -0.66   -1.13   -1.18   -0.79   -1.34   -0.49\n",
      "25%     -0.21   -0.24   -0.16   -0.19   -0.18   -0.23   -0.16   -0.09   -0.12   -0.17   -0.16   -0.15   -0.27   -0.09\n",
      "50%      0.15   -0.06   -0.03    0.00    0.01   -0.04   -0.01    0.03    0.02   -0.02   -0.03   -0.01   -0.09    0.06\n",
      "75%      0.50    0.10    0.10    0.20    0.18    0.13    0.14    0.16    0.19    0.13    0.10    0.18    0.13    0.18\n",
      "max      1.97    1.67    1.24    0.81    1.09    0.87    1.09    0.56    0.66    0.57    1.59    0.78    1.51    0.87\n"
     ]
    }
   ],
   "source": [
    "print(f\"\\nMissing values after imputation: {DataImputed_df.isnull().sum().sum()}\")\n",
    "print(\"\\nStatistical summary of the imputed data:\")\n",
    "print(DataImputed_df.describe().round(2))"
   ]
  },
  {
   "cell_type": "code",
   "execution_count": 83,
   "metadata": {},
   "outputs": [],
   "source": [
    "output_path = '../PredictionResults/MissingResults1_KNN6.txt'\n",
    "data_imputed_df.to_csv(output_path, sep='\\t', index=False, header=False)\n"
   ]
  },
  {
   "cell_type": "markdown",
   "metadata": {},
   "source": [
    "Using KNN Imputation for n_neighbors=6 is a good choice for Missing Value Estimation of Dataset 1 because:\n",
    "    - uses balanced estimate by using 6 neighbors to smooth out any noise wihtout having imputed values that are too specific and too general. \n",
    "    - using weighted by distance gives the cloer neighbors more influence, therefore making the imputations more accurate.   "
   ]
  }
 ],
 "metadata": {
  "kernelspec": {
   "display_name": "Python 3",
   "language": "python",
   "name": "python3"
  },
  "language_info": {
   "codemirror_mode": {
    "name": "ipython",
    "version": 3
   },
   "file_extension": ".py",
   "mimetype": "text/x-python",
   "name": "python",
   "nbconvert_exporter": "python",
   "pygments_lexer": "ipython3",
   "version": "3.12.6"
  }
 },
 "nbformat": 4,
 "nbformat_minor": 2
}
